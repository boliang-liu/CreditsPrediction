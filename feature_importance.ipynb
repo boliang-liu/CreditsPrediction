{
 "cells": [
  {
   "cell_type": "markdown",
   "id": "english-message",
   "metadata": {},
   "source": [
    "# Report of feature importance project"
   ]
  },
  {
   "cell_type": "markdown",
   "id": "historic-visitor",
   "metadata": {},
   "source": [
    "### MSDS 689 --- Data Structure and Algorithm"
   ]
  },
  {
   "cell_type": "markdown",
   "id": "fluid-change",
   "metadata": {},
   "source": [
    "#### Boliang Liu"
   ]
  },
  {
   "cell_type": "markdown",
   "id": "respected-airport",
   "metadata": {},
   "source": [
    "### This document contains information about feature importance:"
   ]
  },
  {
   "cell_type": "markdown",
   "id": "severe-criticism",
   "metadata": {},
   "source": [
    " - Spearman correlation\n",
    " - PCA\n",
    " - mRMR\n",
    " - Permutation importance\n",
    " - Drop column importance\n",
    " - Comparison\n",
    " - SHAP\n",
    " - Automatic feature selection\n",
    " - Variance and p-values for feature importances"
   ]
  },
  {
   "cell_type": "code",
   "execution_count": 91,
   "id": "fewer-sentence",
   "metadata": {},
   "outputs": [],
   "source": [
    "import xgboost\n",
    "import shap"
   ]
  },
  {
   "cell_type": "code",
   "execution_count": 1,
   "id": "greatest-french",
   "metadata": {},
   "outputs": [],
   "source": [
    "from featimp import *"
   ]
  },
  {
   "cell_type": "markdown",
   "id": "desirable-dover",
   "metadata": {},
   "source": [
    "### First, import featimp which contains algorithm implements and support code needed for this project. There are 5 functions in total:"
   ]
  },
  {
   "cell_type": "markdown",
   "id": "biblical-holiday",
   "metadata": {},
   "source": [
    "- spearman_mRMR(correlation, col): This function can compute mRMR values of each feature. Correlation is the correlation matrix computed by using pandas .corr. Col is the column(feature) that we will compute mRMR value for.\n",
    "- permute_imp(X, y, model, metric): This function can implement permutation importance algorithm. It would output a dictionary that contains importances(as values) of each columns(as keys). X is data, y is target. Model and metric is the model and metric we want to use in this function.\n",
    "- dropcolumn_imp(X, y, model, metric): This function can implement drop columns importance algorithm. It would also output a dictionary that contains importances(as values) of each columns(as keys) like permute_imp. And it has same arguments as permute_imp.\n",
    "- compare(data, target, ranking, k, model, metric): This function can compare feature importances computed by above methods. It would output scores of one importance ranking as the value of k increases from 0. Ranking is one importance ranking of rankings computed by above methods. K is how many top important features we'd like to compute in total. Model and metric is the model and metric we want to use in this function.\n",
    "- feature_selection(data, target, model, metric): This function would implement automatic feature selection. It uses permutation importance and computes metric scores of each time when dropping the most unimportant feature."
   ]
  },
  {
   "cell_type": "markdown",
   "id": "recreational-street",
   "metadata": {},
   "source": [
    "### Load the data we will use for this project and have a look at the dataset"
   ]
  },
  {
   "cell_type": "code",
   "execution_count": 171,
   "id": "provincial-brass",
   "metadata": {},
   "outputs": [],
   "source": [
    "data = pd.read_csv('/Users/boliangliu/Desktop/Spring1/ML_Lab/final_project/BankChurners.csv')"
   ]
  },
  {
   "cell_type": "code",
   "execution_count": 172,
   "id": "overall-insulin",
   "metadata": {},
   "outputs": [
    {
     "data": {
      "text/html": [
       "<div>\n",
       "<style scoped>\n",
       "    .dataframe tbody tr th:only-of-type {\n",
       "        vertical-align: middle;\n",
       "    }\n",
       "\n",
       "    .dataframe tbody tr th {\n",
       "        vertical-align: top;\n",
       "    }\n",
       "\n",
       "    .dataframe thead th {\n",
       "        text-align: right;\n",
       "    }\n",
       "</style>\n",
       "<table border=\"1\" class=\"dataframe\">\n",
       "  <thead>\n",
       "    <tr style=\"text-align: right;\">\n",
       "      <th></th>\n",
       "      <th>CLIENTNUM</th>\n",
       "      <th>Attrition_Flag</th>\n",
       "      <th>Customer_Age</th>\n",
       "      <th>Gender</th>\n",
       "      <th>Dependent_count</th>\n",
       "      <th>Education_Level</th>\n",
       "      <th>Marital_Status</th>\n",
       "      <th>Income_Category</th>\n",
       "      <th>Card_Category</th>\n",
       "      <th>Months_on_book</th>\n",
       "      <th>...</th>\n",
       "      <th>Credit_Limit</th>\n",
       "      <th>Total_Revolving_Bal</th>\n",
       "      <th>Avg_Open_To_Buy</th>\n",
       "      <th>Total_Amt_Chng_Q4_Q1</th>\n",
       "      <th>Total_Trans_Amt</th>\n",
       "      <th>Total_Trans_Ct</th>\n",
       "      <th>Total_Ct_Chng_Q4_Q1</th>\n",
       "      <th>Avg_Utilization_Ratio</th>\n",
       "      <th>Naive_Bayes_Classifier_Attrition_Flag_Card_Category_Contacts_Count_12_mon_Dependent_count_Education_Level_Months_Inactive_12_mon_1</th>\n",
       "      <th>Naive_Bayes_Classifier_Attrition_Flag_Card_Category_Contacts_Count_12_mon_Dependent_count_Education_Level_Months_Inactive_12_mon_2</th>\n",
       "    </tr>\n",
       "  </thead>\n",
       "  <tbody>\n",
       "    <tr>\n",
       "      <th>0</th>\n",
       "      <td>768805383</td>\n",
       "      <td>Existing Customer</td>\n",
       "      <td>45</td>\n",
       "      <td>M</td>\n",
       "      <td>3</td>\n",
       "      <td>High School</td>\n",
       "      <td>Married</td>\n",
       "      <td>$60K - $80K</td>\n",
       "      <td>Blue</td>\n",
       "      <td>39</td>\n",
       "      <td>...</td>\n",
       "      <td>12691.0</td>\n",
       "      <td>777</td>\n",
       "      <td>11914.0</td>\n",
       "      <td>1.335</td>\n",
       "      <td>1144</td>\n",
       "      <td>42</td>\n",
       "      <td>1.625</td>\n",
       "      <td>0.061</td>\n",
       "      <td>0.000093</td>\n",
       "      <td>0.99991</td>\n",
       "    </tr>\n",
       "    <tr>\n",
       "      <th>1</th>\n",
       "      <td>818770008</td>\n",
       "      <td>Existing Customer</td>\n",
       "      <td>49</td>\n",
       "      <td>F</td>\n",
       "      <td>5</td>\n",
       "      <td>Graduate</td>\n",
       "      <td>Single</td>\n",
       "      <td>Less than $40K</td>\n",
       "      <td>Blue</td>\n",
       "      <td>44</td>\n",
       "      <td>...</td>\n",
       "      <td>8256.0</td>\n",
       "      <td>864</td>\n",
       "      <td>7392.0</td>\n",
       "      <td>1.541</td>\n",
       "      <td>1291</td>\n",
       "      <td>33</td>\n",
       "      <td>3.714</td>\n",
       "      <td>0.105</td>\n",
       "      <td>0.000057</td>\n",
       "      <td>0.99994</td>\n",
       "    </tr>\n",
       "    <tr>\n",
       "      <th>2</th>\n",
       "      <td>713982108</td>\n",
       "      <td>Existing Customer</td>\n",
       "      <td>51</td>\n",
       "      <td>M</td>\n",
       "      <td>3</td>\n",
       "      <td>Graduate</td>\n",
       "      <td>Married</td>\n",
       "      <td>$80K - $120K</td>\n",
       "      <td>Blue</td>\n",
       "      <td>36</td>\n",
       "      <td>...</td>\n",
       "      <td>3418.0</td>\n",
       "      <td>0</td>\n",
       "      <td>3418.0</td>\n",
       "      <td>2.594</td>\n",
       "      <td>1887</td>\n",
       "      <td>20</td>\n",
       "      <td>2.333</td>\n",
       "      <td>0.000</td>\n",
       "      <td>0.000021</td>\n",
       "      <td>0.99998</td>\n",
       "    </tr>\n",
       "    <tr>\n",
       "      <th>3</th>\n",
       "      <td>769911858</td>\n",
       "      <td>Existing Customer</td>\n",
       "      <td>40</td>\n",
       "      <td>F</td>\n",
       "      <td>4</td>\n",
       "      <td>High School</td>\n",
       "      <td>Unknown</td>\n",
       "      <td>Less than $40K</td>\n",
       "      <td>Blue</td>\n",
       "      <td>34</td>\n",
       "      <td>...</td>\n",
       "      <td>3313.0</td>\n",
       "      <td>2517</td>\n",
       "      <td>796.0</td>\n",
       "      <td>1.405</td>\n",
       "      <td>1171</td>\n",
       "      <td>20</td>\n",
       "      <td>2.333</td>\n",
       "      <td>0.760</td>\n",
       "      <td>0.000134</td>\n",
       "      <td>0.99987</td>\n",
       "    </tr>\n",
       "    <tr>\n",
       "      <th>4</th>\n",
       "      <td>709106358</td>\n",
       "      <td>Existing Customer</td>\n",
       "      <td>40</td>\n",
       "      <td>M</td>\n",
       "      <td>3</td>\n",
       "      <td>Uneducated</td>\n",
       "      <td>Married</td>\n",
       "      <td>$60K - $80K</td>\n",
       "      <td>Blue</td>\n",
       "      <td>21</td>\n",
       "      <td>...</td>\n",
       "      <td>4716.0</td>\n",
       "      <td>0</td>\n",
       "      <td>4716.0</td>\n",
       "      <td>2.175</td>\n",
       "      <td>816</td>\n",
       "      <td>28</td>\n",
       "      <td>2.500</td>\n",
       "      <td>0.000</td>\n",
       "      <td>0.000022</td>\n",
       "      <td>0.99998</td>\n",
       "    </tr>\n",
       "  </tbody>\n",
       "</table>\n",
       "<p>5 rows × 23 columns</p>\n",
       "</div>"
      ],
      "text/plain": [
       "   CLIENTNUM     Attrition_Flag  Customer_Age Gender  Dependent_count  \\\n",
       "0  768805383  Existing Customer            45      M                3   \n",
       "1  818770008  Existing Customer            49      F                5   \n",
       "2  713982108  Existing Customer            51      M                3   \n",
       "3  769911858  Existing Customer            40      F                4   \n",
       "4  709106358  Existing Customer            40      M                3   \n",
       "\n",
       "  Education_Level Marital_Status Income_Category Card_Category  \\\n",
       "0     High School        Married     $60K - $80K          Blue   \n",
       "1        Graduate         Single  Less than $40K          Blue   \n",
       "2        Graduate        Married    $80K - $120K          Blue   \n",
       "3     High School        Unknown  Less than $40K          Blue   \n",
       "4      Uneducated        Married     $60K - $80K          Blue   \n",
       "\n",
       "   Months_on_book  ...  Credit_Limit  Total_Revolving_Bal  Avg_Open_To_Buy  \\\n",
       "0              39  ...       12691.0                  777          11914.0   \n",
       "1              44  ...        8256.0                  864           7392.0   \n",
       "2              36  ...        3418.0                    0           3418.0   \n",
       "3              34  ...        3313.0                 2517            796.0   \n",
       "4              21  ...        4716.0                    0           4716.0   \n",
       "\n",
       "   Total_Amt_Chng_Q4_Q1  Total_Trans_Amt  Total_Trans_Ct  Total_Ct_Chng_Q4_Q1  \\\n",
       "0                 1.335             1144              42                1.625   \n",
       "1                 1.541             1291              33                3.714   \n",
       "2                 2.594             1887              20                2.333   \n",
       "3                 1.405             1171              20                2.333   \n",
       "4                 2.175              816              28                2.500   \n",
       "\n",
       "   Avg_Utilization_Ratio  \\\n",
       "0                  0.061   \n",
       "1                  0.105   \n",
       "2                  0.000   \n",
       "3                  0.760   \n",
       "4                  0.000   \n",
       "\n",
       "   Naive_Bayes_Classifier_Attrition_Flag_Card_Category_Contacts_Count_12_mon_Dependent_count_Education_Level_Months_Inactive_12_mon_1  \\\n",
       "0                                           0.000093                                                                                    \n",
       "1                                           0.000057                                                                                    \n",
       "2                                           0.000021                                                                                    \n",
       "3                                           0.000134                                                                                    \n",
       "4                                           0.000022                                                                                    \n",
       "\n",
       "   Naive_Bayes_Classifier_Attrition_Flag_Card_Category_Contacts_Count_12_mon_Dependent_count_Education_Level_Months_Inactive_12_mon_2  \n",
       "0                                            0.99991                                                                                   \n",
       "1                                            0.99994                                                                                   \n",
       "2                                            0.99998                                                                                   \n",
       "3                                            0.99987                                                                                   \n",
       "4                                            0.99998                                                                                   \n",
       "\n",
       "[5 rows x 23 columns]"
      ]
     },
     "execution_count": 172,
     "metadata": {},
     "output_type": "execute_result"
    }
   ],
   "source": [
    "data.head()"
   ]
  },
  {
   "cell_type": "markdown",
   "id": "executive-provision",
   "metadata": {},
   "source": [
    "This dataset is from Kaggle: https://www.kaggle.com/sakshigoyal7/credit-card-customers. It contains demographics and bank account information of credit card customers, and credit limit. We can predict credit limit by using imformation of customers. But in this project, we talk about feature importance, so we can get to know what aspects banks are insterested in when they borrow money to us."
   ]
  },
  {
   "cell_type": "markdown",
   "id": "saved-ecology",
   "metadata": {},
   "source": [
    "This dataset contains some columns that are not numbers but categories. We are computing correlation scores so it doesn't help much. So we drop those categorical columns and focus on numeric columns."
   ]
  },
  {
   "cell_type": "code",
   "execution_count": 4,
   "id": "harmful-biography",
   "metadata": {},
   "outputs": [],
   "source": [
    "continuous_columns = (data.dtypes != object)"
   ]
  },
  {
   "cell_type": "code",
   "execution_count": 5,
   "id": "romance-sodium",
   "metadata": {},
   "outputs": [
    {
     "data": {
      "text/plain": [
       "CLIENTNUM                                                                                                                              True\n",
       "Attrition_Flag                                                                                                                        False\n",
       "Customer_Age                                                                                                                           True\n",
       "Gender                                                                                                                                False\n",
       "Dependent_count                                                                                                                        True\n",
       "Education_Level                                                                                                                       False\n",
       "Marital_Status                                                                                                                        False\n",
       "Income_Category                                                                                                                       False\n",
       "Card_Category                                                                                                                         False\n",
       "Months_on_book                                                                                                                         True\n",
       "Total_Relationship_Count                                                                                                               True\n",
       "Months_Inactive_12_mon                                                                                                                 True\n",
       "Contacts_Count_12_mon                                                                                                                  True\n",
       "Credit_Limit                                                                                                                           True\n",
       "Total_Revolving_Bal                                                                                                                    True\n",
       "Avg_Open_To_Buy                                                                                                                        True\n",
       "Total_Amt_Chng_Q4_Q1                                                                                                                   True\n",
       "Total_Trans_Amt                                                                                                                        True\n",
       "Total_Trans_Ct                                                                                                                         True\n",
       "Total_Ct_Chng_Q4_Q1                                                                                                                    True\n",
       "Avg_Utilization_Ratio                                                                                                                  True\n",
       "Naive_Bayes_Classifier_Attrition_Flag_Card_Category_Contacts_Count_12_mon_Dependent_count_Education_Level_Months_Inactive_12_mon_1     True\n",
       "Naive_Bayes_Classifier_Attrition_Flag_Card_Category_Contacts_Count_12_mon_Dependent_count_Education_Level_Months_Inactive_12_mon_2     True\n",
       "dtype: bool"
      ]
     },
     "execution_count": 5,
     "metadata": {},
     "output_type": "execute_result"
    }
   ],
   "source": [
    "continuous_columns"
   ]
  },
  {
   "cell_type": "code",
   "execution_count": 173,
   "id": "pressing-substance",
   "metadata": {},
   "outputs": [],
   "source": [
    "target = data['Credit_Limit']"
   ]
  },
  {
   "cell_type": "markdown",
   "id": "under-charity",
   "metadata": {},
   "source": [
    "Target is credit limit."
   ]
  },
  {
   "cell_type": "code",
   "execution_count": 174,
   "id": "descending-lawrence",
   "metadata": {},
   "outputs": [],
   "source": [
    "data = data.drop(['Attrition_Flag', 'Gender', 'Education_Level', 'Marital_Status', 'Income_Category', 'Card_Category',\\\n",
    "                  'Naive_Bayes_Classifier_Attrition_Flag_Card_Category_Contacts_Count_12_mon_Dependent_count_Education_Level_Months_Inactive_12_mon_1',\\\n",
    "                  'Naive_Bayes_Classifier_Attrition_Flag_Card_Category_Contacts_Count_12_mon_Dependent_count_Education_Level_Months_Inactive_12_mon_2'], axis=1)"
   ]
  },
  {
   "cell_type": "code",
   "execution_count": 141,
   "id": "statutory-composer",
   "metadata": {},
   "outputs": [
    {
     "data": {
      "text/html": [
       "<div>\n",
       "<style scoped>\n",
       "    .dataframe tbody tr th:only-of-type {\n",
       "        vertical-align: middle;\n",
       "    }\n",
       "\n",
       "    .dataframe tbody tr th {\n",
       "        vertical-align: top;\n",
       "    }\n",
       "\n",
       "    .dataframe thead th {\n",
       "        text-align: right;\n",
       "    }\n",
       "</style>\n",
       "<table border=\"1\" class=\"dataframe\">\n",
       "  <thead>\n",
       "    <tr style=\"text-align: right;\">\n",
       "      <th></th>\n",
       "      <th>CLIENTNUM</th>\n",
       "      <th>Customer_Age</th>\n",
       "      <th>Dependent_count</th>\n",
       "      <th>Months_on_book</th>\n",
       "      <th>Total_Relationship_Count</th>\n",
       "      <th>Months_Inactive_12_mon</th>\n",
       "      <th>Contacts_Count_12_mon</th>\n",
       "      <th>Credit_Limit</th>\n",
       "      <th>Total_Revolving_Bal</th>\n",
       "      <th>Avg_Open_To_Buy</th>\n",
       "      <th>Total_Amt_Chng_Q4_Q1</th>\n",
       "      <th>Total_Trans_Amt</th>\n",
       "      <th>Total_Trans_Ct</th>\n",
       "      <th>Total_Ct_Chng_Q4_Q1</th>\n",
       "      <th>Avg_Utilization_Ratio</th>\n",
       "    </tr>\n",
       "  </thead>\n",
       "  <tbody>\n",
       "    <tr>\n",
       "      <th>0</th>\n",
       "      <td>768805383</td>\n",
       "      <td>45</td>\n",
       "      <td>3</td>\n",
       "      <td>39</td>\n",
       "      <td>5</td>\n",
       "      <td>1</td>\n",
       "      <td>3</td>\n",
       "      <td>12691.0</td>\n",
       "      <td>777</td>\n",
       "      <td>11914.0</td>\n",
       "      <td>1.335</td>\n",
       "      <td>1144</td>\n",
       "      <td>42</td>\n",
       "      <td>1.625</td>\n",
       "      <td>0.061</td>\n",
       "    </tr>\n",
       "    <tr>\n",
       "      <th>1</th>\n",
       "      <td>818770008</td>\n",
       "      <td>49</td>\n",
       "      <td>5</td>\n",
       "      <td>44</td>\n",
       "      <td>6</td>\n",
       "      <td>1</td>\n",
       "      <td>2</td>\n",
       "      <td>8256.0</td>\n",
       "      <td>864</td>\n",
       "      <td>7392.0</td>\n",
       "      <td>1.541</td>\n",
       "      <td>1291</td>\n",
       "      <td>33</td>\n",
       "      <td>3.714</td>\n",
       "      <td>0.105</td>\n",
       "    </tr>\n",
       "    <tr>\n",
       "      <th>2</th>\n",
       "      <td>713982108</td>\n",
       "      <td>51</td>\n",
       "      <td>3</td>\n",
       "      <td>36</td>\n",
       "      <td>4</td>\n",
       "      <td>1</td>\n",
       "      <td>0</td>\n",
       "      <td>3418.0</td>\n",
       "      <td>0</td>\n",
       "      <td>3418.0</td>\n",
       "      <td>2.594</td>\n",
       "      <td>1887</td>\n",
       "      <td>20</td>\n",
       "      <td>2.333</td>\n",
       "      <td>0.000</td>\n",
       "    </tr>\n",
       "    <tr>\n",
       "      <th>3</th>\n",
       "      <td>769911858</td>\n",
       "      <td>40</td>\n",
       "      <td>4</td>\n",
       "      <td>34</td>\n",
       "      <td>3</td>\n",
       "      <td>4</td>\n",
       "      <td>1</td>\n",
       "      <td>3313.0</td>\n",
       "      <td>2517</td>\n",
       "      <td>796.0</td>\n",
       "      <td>1.405</td>\n",
       "      <td>1171</td>\n",
       "      <td>20</td>\n",
       "      <td>2.333</td>\n",
       "      <td>0.760</td>\n",
       "    </tr>\n",
       "    <tr>\n",
       "      <th>4</th>\n",
       "      <td>709106358</td>\n",
       "      <td>40</td>\n",
       "      <td>3</td>\n",
       "      <td>21</td>\n",
       "      <td>5</td>\n",
       "      <td>1</td>\n",
       "      <td>0</td>\n",
       "      <td>4716.0</td>\n",
       "      <td>0</td>\n",
       "      <td>4716.0</td>\n",
       "      <td>2.175</td>\n",
       "      <td>816</td>\n",
       "      <td>28</td>\n",
       "      <td>2.500</td>\n",
       "      <td>0.000</td>\n",
       "    </tr>\n",
       "  </tbody>\n",
       "</table>\n",
       "</div>"
      ],
      "text/plain": [
       "   CLIENTNUM  Customer_Age  Dependent_count  Months_on_book  \\\n",
       "0  768805383            45                3              39   \n",
       "1  818770008            49                5              44   \n",
       "2  713982108            51                3              36   \n",
       "3  769911858            40                4              34   \n",
       "4  709106358            40                3              21   \n",
       "\n",
       "   Total_Relationship_Count  Months_Inactive_12_mon  Contacts_Count_12_mon  \\\n",
       "0                         5                       1                      3   \n",
       "1                         6                       1                      2   \n",
       "2                         4                       1                      0   \n",
       "3                         3                       4                      1   \n",
       "4                         5                       1                      0   \n",
       "\n",
       "   Credit_Limit  Total_Revolving_Bal  Avg_Open_To_Buy  Total_Amt_Chng_Q4_Q1  \\\n",
       "0       12691.0                  777          11914.0                 1.335   \n",
       "1        8256.0                  864           7392.0                 1.541   \n",
       "2        3418.0                    0           3418.0                 2.594   \n",
       "3        3313.0                 2517            796.0                 1.405   \n",
       "4        4716.0                    0           4716.0                 2.175   \n",
       "\n",
       "   Total_Trans_Amt  Total_Trans_Ct  Total_Ct_Chng_Q4_Q1  Avg_Utilization_Ratio  \n",
       "0             1144              42                1.625                  0.061  \n",
       "1             1291              33                3.714                  0.105  \n",
       "2             1887              20                2.333                  0.000  \n",
       "3             1171              20                2.333                  0.760  \n",
       "4              816              28                2.500                  0.000  "
      ]
     },
     "execution_count": 141,
     "metadata": {},
     "output_type": "execute_result"
    }
   ],
   "source": [
    "data.head()"
   ]
  },
  {
   "cell_type": "markdown",
   "id": "standard-target",
   "metadata": {},
   "source": [
    "Now we have a dataset that only contains numbers."
   ]
  },
  {
   "cell_type": "markdown",
   "id": "described-montreal",
   "metadata": {},
   "source": [
    "## Spearman correlation"
   ]
  },
  {
   "cell_type": "markdown",
   "id": "forward-castle",
   "metadata": {},
   "source": [
    "Spearman correlation coefficient measures how munch correlated or dependent between variables. When using Spearman correlation, we are computing the correlation between single one variable and target. .corr in Pandas can compute correlation directly for us. It outputs a correlation matrix."
   ]
  },
  {
   "cell_type": "code",
   "execution_count": 9,
   "id": "latin-tourism",
   "metadata": {},
   "outputs": [],
   "source": [
    "correlation = data.corr(method='spearman')"
   ]
  },
  {
   "cell_type": "code",
   "execution_count": 10,
   "id": "recent-insulin",
   "metadata": {},
   "outputs": [
    {
     "data": {
      "text/html": [
       "<div>\n",
       "<style scoped>\n",
       "    .dataframe tbody tr th:only-of-type {\n",
       "        vertical-align: middle;\n",
       "    }\n",
       "\n",
       "    .dataframe tbody tr th {\n",
       "        vertical-align: top;\n",
       "    }\n",
       "\n",
       "    .dataframe thead th {\n",
       "        text-align: right;\n",
       "    }\n",
       "</style>\n",
       "<table border=\"1\" class=\"dataframe\">\n",
       "  <thead>\n",
       "    <tr style=\"text-align: right;\">\n",
       "      <th></th>\n",
       "      <th>CLIENTNUM</th>\n",
       "      <th>Customer_Age</th>\n",
       "      <th>Dependent_count</th>\n",
       "      <th>Months_on_book</th>\n",
       "      <th>Total_Relationship_Count</th>\n",
       "      <th>Months_Inactive_12_mon</th>\n",
       "      <th>Contacts_Count_12_mon</th>\n",
       "      <th>Credit_Limit</th>\n",
       "      <th>Total_Revolving_Bal</th>\n",
       "      <th>Avg_Open_To_Buy</th>\n",
       "      <th>Total_Amt_Chng_Q4_Q1</th>\n",
       "      <th>Total_Trans_Amt</th>\n",
       "      <th>Total_Trans_Ct</th>\n",
       "      <th>Total_Ct_Chng_Q4_Q1</th>\n",
       "      <th>Avg_Utilization_Ratio</th>\n",
       "    </tr>\n",
       "  </thead>\n",
       "  <tbody>\n",
       "    <tr>\n",
       "      <th>CLIENTNUM</th>\n",
       "      <td>1.000000</td>\n",
       "      <td>0.017488</td>\n",
       "      <td>-0.004093</td>\n",
       "      <td>0.110518</td>\n",
       "      <td>0.013798</td>\n",
       "      <td>-0.008336</td>\n",
       "      <td>0.011380</td>\n",
       "      <td>0.014201</td>\n",
       "      <td>0.003220</td>\n",
       "      <td>0.011112</td>\n",
       "      <td>0.023823</td>\n",
       "      <td>-0.001522</td>\n",
       "      <td>0.006442</td>\n",
       "      <td>0.016398</td>\n",
       "      <td>0.006647</td>\n",
       "    </tr>\n",
       "    <tr>\n",
       "      <th>Customer_Age</th>\n",
       "      <td>0.017488</td>\n",
       "      <td>1.000000</td>\n",
       "      <td>-0.143583</td>\n",
       "      <td>0.768901</td>\n",
       "      <td>-0.014495</td>\n",
       "      <td>0.044389</td>\n",
       "      <td>-0.014399</td>\n",
       "      <td>0.002435</td>\n",
       "      <td>0.013551</td>\n",
       "      <td>-0.002146</td>\n",
       "      <td>-0.070538</td>\n",
       "      <td>-0.038726</td>\n",
       "      <td>-0.053851</td>\n",
       "      <td>-0.040285</td>\n",
       "      <td>0.010562</td>\n",
       "    </tr>\n",
       "    <tr>\n",
       "      <th>Dependent_count</th>\n",
       "      <td>-0.004093</td>\n",
       "      <td>-0.143583</td>\n",
       "      <td>1.000000</td>\n",
       "      <td>-0.114845</td>\n",
       "      <td>-0.035726</td>\n",
       "      <td>-0.009174</td>\n",
       "      <td>-0.041310</td>\n",
       "      <td>0.050696</td>\n",
       "      <td>-0.003574</td>\n",
       "      <td>0.054437</td>\n",
       "      <td>-0.026267</td>\n",
       "      <td>0.057847</td>\n",
       "      <td>0.052897</td>\n",
       "      <td>0.009414</td>\n",
       "      <td>-0.034930</td>\n",
       "    </tr>\n",
       "    <tr>\n",
       "      <th>Months_on_book</th>\n",
       "      <td>0.110518</td>\n",
       "      <td>0.768901</td>\n",
       "      <td>-0.114845</td>\n",
       "      <td>1.000000</td>\n",
       "      <td>-0.013973</td>\n",
       "      <td>0.057372</td>\n",
       "      <td>-0.008290</td>\n",
       "      <td>0.006870</td>\n",
       "      <td>0.006289</td>\n",
       "      <td>0.007743</td>\n",
       "      <td>-0.054364</td>\n",
       "      <td>-0.029127</td>\n",
       "      <td>-0.038772</td>\n",
       "      <td>-0.033842</td>\n",
       "      <td>-0.003644</td>\n",
       "    </tr>\n",
       "    <tr>\n",
       "      <th>Total_Relationship_Count</th>\n",
       "      <td>0.013798</td>\n",
       "      <td>-0.014495</td>\n",
       "      <td>-0.035726</td>\n",
       "      <td>-0.013973</td>\n",
       "      <td>1.000000</td>\n",
       "      <td>-0.006644</td>\n",
       "      <td>0.060954</td>\n",
       "      <td>-0.059279</td>\n",
       "      <td>0.011651</td>\n",
       "      <td>-0.070822</td>\n",
       "      <td>0.025689</td>\n",
       "      <td>-0.279113</td>\n",
       "      <td>-0.226808</td>\n",
       "      <td>0.024238</td>\n",
       "      <td>0.065487</td>\n",
       "    </tr>\n",
       "    <tr>\n",
       "      <th>Months_Inactive_12_mon</th>\n",
       "      <td>-0.008336</td>\n",
       "      <td>0.044389</td>\n",
       "      <td>-0.009174</td>\n",
       "      <td>0.057372</td>\n",
       "      <td>-0.006644</td>\n",
       "      <td>1.000000</td>\n",
       "      <td>0.030331</td>\n",
       "      <td>-0.027575</td>\n",
       "      <td>-0.042544</td>\n",
       "      <td>-0.015668</td>\n",
       "      <td>-0.018774</td>\n",
       "      <td>-0.031945</td>\n",
       "      <td>-0.050852</td>\n",
       "      <td>-0.046538</td>\n",
       "      <td>-0.026559</td>\n",
       "    </tr>\n",
       "    <tr>\n",
       "      <th>Contacts_Count_12_mon</th>\n",
       "      <td>0.011380</td>\n",
       "      <td>-0.014399</td>\n",
       "      <td>-0.041310</td>\n",
       "      <td>-0.008290</td>\n",
       "      <td>0.060954</td>\n",
       "      <td>0.030331</td>\n",
       "      <td>1.000000</td>\n",
       "      <td>0.022717</td>\n",
       "      <td>-0.044788</td>\n",
       "      <td>0.033265</td>\n",
       "      <td>-0.020886</td>\n",
       "      <td>-0.167372</td>\n",
       "      <td>-0.168413</td>\n",
       "      <td>-0.093311</td>\n",
       "      <td>-0.058715</td>\n",
       "    </tr>\n",
       "    <tr>\n",
       "      <th>Credit_Limit</th>\n",
       "      <td>0.014201</td>\n",
       "      <td>0.002435</td>\n",
       "      <td>0.050696</td>\n",
       "      <td>0.006870</td>\n",
       "      <td>-0.059279</td>\n",
       "      <td>-0.027575</td>\n",
       "      <td>0.022717</td>\n",
       "      <td>1.000000</td>\n",
       "      <td>0.131125</td>\n",
       "      <td>0.931431</td>\n",
       "      <td>0.021289</td>\n",
       "      <td>0.028407</td>\n",
       "      <td>0.034222</td>\n",
       "      <td>-0.011409</td>\n",
       "      <td>-0.416959</td>\n",
       "    </tr>\n",
       "    <tr>\n",
       "      <th>Total_Revolving_Bal</th>\n",
       "      <td>0.003220</td>\n",
       "      <td>0.013551</td>\n",
       "      <td>-0.003574</td>\n",
       "      <td>0.006289</td>\n",
       "      <td>0.011651</td>\n",
       "      <td>-0.042544</td>\n",
       "      <td>-0.044788</td>\n",
       "      <td>0.131125</td>\n",
       "      <td>1.000000</td>\n",
       "      <td>-0.154165</td>\n",
       "      <td>0.036129</td>\n",
       "      <td>0.017665</td>\n",
       "      <td>0.040185</td>\n",
       "      <td>0.078224</td>\n",
       "      <td>0.708607</td>\n",
       "    </tr>\n",
       "    <tr>\n",
       "      <th>Avg_Open_To_Buy</th>\n",
       "      <td>0.011112</td>\n",
       "      <td>-0.002146</td>\n",
       "      <td>0.054437</td>\n",
       "      <td>0.007743</td>\n",
       "      <td>-0.070822</td>\n",
       "      <td>-0.015668</td>\n",
       "      <td>0.033265</td>\n",
       "      <td>0.931431</td>\n",
       "      <td>-0.154165</td>\n",
       "      <td>1.000000</td>\n",
       "      <td>0.007040</td>\n",
       "      <td>0.022267</td>\n",
       "      <td>0.021578</td>\n",
       "      <td>-0.040196</td>\n",
       "      <td>-0.685716</td>\n",
       "    </tr>\n",
       "    <tr>\n",
       "      <th>Total_Amt_Chng_Q4_Q1</th>\n",
       "      <td>0.023823</td>\n",
       "      <td>-0.070538</td>\n",
       "      <td>-0.026267</td>\n",
       "      <td>-0.054364</td>\n",
       "      <td>0.025689</td>\n",
       "      <td>-0.018774</td>\n",
       "      <td>-0.020886</td>\n",
       "      <td>0.021289</td>\n",
       "      <td>0.036129</td>\n",
       "      <td>0.007040</td>\n",
       "      <td>1.000000</td>\n",
       "      <td>0.134580</td>\n",
       "      <td>0.085354</td>\n",
       "      <td>0.301981</td>\n",
       "      <td>0.032509</td>\n",
       "    </tr>\n",
       "    <tr>\n",
       "      <th>Total_Trans_Amt</th>\n",
       "      <td>-0.001522</td>\n",
       "      <td>-0.038726</td>\n",
       "      <td>0.057847</td>\n",
       "      <td>-0.029127</td>\n",
       "      <td>-0.279113</td>\n",
       "      <td>-0.031945</td>\n",
       "      <td>-0.167372</td>\n",
       "      <td>0.028407</td>\n",
       "      <td>0.017665</td>\n",
       "      <td>0.022267</td>\n",
       "      <td>0.134580</td>\n",
       "      <td>1.000000</td>\n",
       "      <td>0.879725</td>\n",
       "      <td>0.222688</td>\n",
       "      <td>0.019351</td>\n",
       "    </tr>\n",
       "    <tr>\n",
       "      <th>Total_Trans_Ct</th>\n",
       "      <td>0.006442</td>\n",
       "      <td>-0.053851</td>\n",
       "      <td>0.052897</td>\n",
       "      <td>-0.038772</td>\n",
       "      <td>-0.226808</td>\n",
       "      <td>-0.050852</td>\n",
       "      <td>-0.168413</td>\n",
       "      <td>0.034222</td>\n",
       "      <td>0.040185</td>\n",
       "      <td>0.021578</td>\n",
       "      <td>0.085354</td>\n",
       "      <td>0.879725</td>\n",
       "      <td>1.000000</td>\n",
       "      <td>0.233448</td>\n",
       "      <td>0.040399</td>\n",
       "    </tr>\n",
       "    <tr>\n",
       "      <th>Total_Ct_Chng_Q4_Q1</th>\n",
       "      <td>0.016398</td>\n",
       "      <td>-0.040285</td>\n",
       "      <td>0.009414</td>\n",
       "      <td>-0.033842</td>\n",
       "      <td>0.024238</td>\n",
       "      <td>-0.046538</td>\n",
       "      <td>-0.093311</td>\n",
       "      <td>-0.011409</td>\n",
       "      <td>0.078224</td>\n",
       "      <td>-0.040196</td>\n",
       "      <td>0.301981</td>\n",
       "      <td>0.222688</td>\n",
       "      <td>0.233448</td>\n",
       "      <td>1.000000</td>\n",
       "      <td>0.093994</td>\n",
       "    </tr>\n",
       "    <tr>\n",
       "      <th>Avg_Utilization_Ratio</th>\n",
       "      <td>0.006647</td>\n",
       "      <td>0.010562</td>\n",
       "      <td>-0.034930</td>\n",
       "      <td>-0.003644</td>\n",
       "      <td>0.065487</td>\n",
       "      <td>-0.026559</td>\n",
       "      <td>-0.058715</td>\n",
       "      <td>-0.416959</td>\n",
       "      <td>0.708607</td>\n",
       "      <td>-0.685716</td>\n",
       "      <td>0.032509</td>\n",
       "      <td>0.019351</td>\n",
       "      <td>0.040399</td>\n",
       "      <td>0.093994</td>\n",
       "      <td>1.000000</td>\n",
       "    </tr>\n",
       "  </tbody>\n",
       "</table>\n",
       "</div>"
      ],
      "text/plain": [
       "                          CLIENTNUM  Customer_Age  Dependent_count  \\\n",
       "CLIENTNUM                  1.000000      0.017488        -0.004093   \n",
       "Customer_Age               0.017488      1.000000        -0.143583   \n",
       "Dependent_count           -0.004093     -0.143583         1.000000   \n",
       "Months_on_book             0.110518      0.768901        -0.114845   \n",
       "Total_Relationship_Count   0.013798     -0.014495        -0.035726   \n",
       "Months_Inactive_12_mon    -0.008336      0.044389        -0.009174   \n",
       "Contacts_Count_12_mon      0.011380     -0.014399        -0.041310   \n",
       "Credit_Limit               0.014201      0.002435         0.050696   \n",
       "Total_Revolving_Bal        0.003220      0.013551        -0.003574   \n",
       "Avg_Open_To_Buy            0.011112     -0.002146         0.054437   \n",
       "Total_Amt_Chng_Q4_Q1       0.023823     -0.070538        -0.026267   \n",
       "Total_Trans_Amt           -0.001522     -0.038726         0.057847   \n",
       "Total_Trans_Ct             0.006442     -0.053851         0.052897   \n",
       "Total_Ct_Chng_Q4_Q1        0.016398     -0.040285         0.009414   \n",
       "Avg_Utilization_Ratio      0.006647      0.010562        -0.034930   \n",
       "\n",
       "                          Months_on_book  Total_Relationship_Count  \\\n",
       "CLIENTNUM                       0.110518                  0.013798   \n",
       "Customer_Age                    0.768901                 -0.014495   \n",
       "Dependent_count                -0.114845                 -0.035726   \n",
       "Months_on_book                  1.000000                 -0.013973   \n",
       "Total_Relationship_Count       -0.013973                  1.000000   \n",
       "Months_Inactive_12_mon          0.057372                 -0.006644   \n",
       "Contacts_Count_12_mon          -0.008290                  0.060954   \n",
       "Credit_Limit                    0.006870                 -0.059279   \n",
       "Total_Revolving_Bal             0.006289                  0.011651   \n",
       "Avg_Open_To_Buy                 0.007743                 -0.070822   \n",
       "Total_Amt_Chng_Q4_Q1           -0.054364                  0.025689   \n",
       "Total_Trans_Amt                -0.029127                 -0.279113   \n",
       "Total_Trans_Ct                 -0.038772                 -0.226808   \n",
       "Total_Ct_Chng_Q4_Q1            -0.033842                  0.024238   \n",
       "Avg_Utilization_Ratio          -0.003644                  0.065487   \n",
       "\n",
       "                          Months_Inactive_12_mon  Contacts_Count_12_mon  \\\n",
       "CLIENTNUM                              -0.008336               0.011380   \n",
       "Customer_Age                            0.044389              -0.014399   \n",
       "Dependent_count                        -0.009174              -0.041310   \n",
       "Months_on_book                          0.057372              -0.008290   \n",
       "Total_Relationship_Count               -0.006644               0.060954   \n",
       "Months_Inactive_12_mon                  1.000000               0.030331   \n",
       "Contacts_Count_12_mon                   0.030331               1.000000   \n",
       "Credit_Limit                           -0.027575               0.022717   \n",
       "Total_Revolving_Bal                    -0.042544              -0.044788   \n",
       "Avg_Open_To_Buy                        -0.015668               0.033265   \n",
       "Total_Amt_Chng_Q4_Q1                   -0.018774              -0.020886   \n",
       "Total_Trans_Amt                        -0.031945              -0.167372   \n",
       "Total_Trans_Ct                         -0.050852              -0.168413   \n",
       "Total_Ct_Chng_Q4_Q1                    -0.046538              -0.093311   \n",
       "Avg_Utilization_Ratio                  -0.026559              -0.058715   \n",
       "\n",
       "                          Credit_Limit  Total_Revolving_Bal  Avg_Open_To_Buy  \\\n",
       "CLIENTNUM                     0.014201             0.003220         0.011112   \n",
       "Customer_Age                  0.002435             0.013551        -0.002146   \n",
       "Dependent_count               0.050696            -0.003574         0.054437   \n",
       "Months_on_book                0.006870             0.006289         0.007743   \n",
       "Total_Relationship_Count     -0.059279             0.011651        -0.070822   \n",
       "Months_Inactive_12_mon       -0.027575            -0.042544        -0.015668   \n",
       "Contacts_Count_12_mon         0.022717            -0.044788         0.033265   \n",
       "Credit_Limit                  1.000000             0.131125         0.931431   \n",
       "Total_Revolving_Bal           0.131125             1.000000        -0.154165   \n",
       "Avg_Open_To_Buy               0.931431            -0.154165         1.000000   \n",
       "Total_Amt_Chng_Q4_Q1          0.021289             0.036129         0.007040   \n",
       "Total_Trans_Amt               0.028407             0.017665         0.022267   \n",
       "Total_Trans_Ct                0.034222             0.040185         0.021578   \n",
       "Total_Ct_Chng_Q4_Q1          -0.011409             0.078224        -0.040196   \n",
       "Avg_Utilization_Ratio        -0.416959             0.708607        -0.685716   \n",
       "\n",
       "                          Total_Amt_Chng_Q4_Q1  Total_Trans_Amt  \\\n",
       "CLIENTNUM                             0.023823        -0.001522   \n",
       "Customer_Age                         -0.070538        -0.038726   \n",
       "Dependent_count                      -0.026267         0.057847   \n",
       "Months_on_book                       -0.054364        -0.029127   \n",
       "Total_Relationship_Count              0.025689        -0.279113   \n",
       "Months_Inactive_12_mon               -0.018774        -0.031945   \n",
       "Contacts_Count_12_mon                -0.020886        -0.167372   \n",
       "Credit_Limit                          0.021289         0.028407   \n",
       "Total_Revolving_Bal                   0.036129         0.017665   \n",
       "Avg_Open_To_Buy                       0.007040         0.022267   \n",
       "Total_Amt_Chng_Q4_Q1                  1.000000         0.134580   \n",
       "Total_Trans_Amt                       0.134580         1.000000   \n",
       "Total_Trans_Ct                        0.085354         0.879725   \n",
       "Total_Ct_Chng_Q4_Q1                   0.301981         0.222688   \n",
       "Avg_Utilization_Ratio                 0.032509         0.019351   \n",
       "\n",
       "                          Total_Trans_Ct  Total_Ct_Chng_Q4_Q1  \\\n",
       "CLIENTNUM                       0.006442             0.016398   \n",
       "Customer_Age                   -0.053851            -0.040285   \n",
       "Dependent_count                 0.052897             0.009414   \n",
       "Months_on_book                 -0.038772            -0.033842   \n",
       "Total_Relationship_Count       -0.226808             0.024238   \n",
       "Months_Inactive_12_mon         -0.050852            -0.046538   \n",
       "Contacts_Count_12_mon          -0.168413            -0.093311   \n",
       "Credit_Limit                    0.034222            -0.011409   \n",
       "Total_Revolving_Bal             0.040185             0.078224   \n",
       "Avg_Open_To_Buy                 0.021578            -0.040196   \n",
       "Total_Amt_Chng_Q4_Q1            0.085354             0.301981   \n",
       "Total_Trans_Amt                 0.879725             0.222688   \n",
       "Total_Trans_Ct                  1.000000             0.233448   \n",
       "Total_Ct_Chng_Q4_Q1             0.233448             1.000000   \n",
       "Avg_Utilization_Ratio           0.040399             0.093994   \n",
       "\n",
       "                          Avg_Utilization_Ratio  \n",
       "CLIENTNUM                              0.006647  \n",
       "Customer_Age                           0.010562  \n",
       "Dependent_count                       -0.034930  \n",
       "Months_on_book                        -0.003644  \n",
       "Total_Relationship_Count               0.065487  \n",
       "Months_Inactive_12_mon                -0.026559  \n",
       "Contacts_Count_12_mon                 -0.058715  \n",
       "Credit_Limit                          -0.416959  \n",
       "Total_Revolving_Bal                    0.708607  \n",
       "Avg_Open_To_Buy                       -0.685716  \n",
       "Total_Amt_Chng_Q4_Q1                   0.032509  \n",
       "Total_Trans_Amt                        0.019351  \n",
       "Total_Trans_Ct                         0.040399  \n",
       "Total_Ct_Chng_Q4_Q1                    0.093994  \n",
       "Avg_Utilization_Ratio                  1.000000  "
      ]
     },
     "execution_count": 10,
     "metadata": {},
     "output_type": "execute_result"
    }
   ],
   "source": [
    "correlation"
   ]
  },
  {
   "cell_type": "markdown",
   "id": "pediatric-jordan",
   "metadata": {},
   "source": [
    "As we can see, it computed correlation scores between each variable. In this matrix, most variables are not so correlated and even negative correlated. The only one pair of correlated variables are 'Total_Trans_Ct' and 'Total_Trans_Am', 0.879725."
   ]
  },
  {
   "cell_type": "markdown",
   "id": "induced-margin",
   "metadata": {},
   "source": [
    "We take the column of 'Credit_Limit' to see the correlation bewteen 'Credit_Limit' and other variables. Sort correlation socres and plot a bar chart."
   ]
  },
  {
   "cell_type": "code",
   "execution_count": 11,
   "id": "minimal-fiction",
   "metadata": {},
   "outputs": [],
   "source": [
    "corr_target = dict(correlation['Credit_Limit'])"
   ]
  },
  {
   "cell_type": "code",
   "execution_count": 12,
   "id": "ordinary-politics",
   "metadata": {},
   "outputs": [],
   "source": [
    "corr_target = sorted(corr_target.items(), key=lambda x: (x[1], x[0]), reverse = True)[1:]"
   ]
  },
  {
   "cell_type": "code",
   "execution_count": 13,
   "id": "affiliated-malawi",
   "metadata": {},
   "outputs": [],
   "source": [
    "corr_target = dict(corr_target)"
   ]
  },
  {
   "cell_type": "code",
   "execution_count": 14,
   "id": "joined-rough",
   "metadata": {},
   "outputs": [
    {
     "data": {
      "text/plain": [
       "{'Avg_Open_To_Buy': 0.9314309341271124,\n",
       " 'Total_Revolving_Bal': 0.131124749121385,\n",
       " 'Dependent_count': 0.050695929671240064,\n",
       " 'Total_Trans_Ct': 0.03422191954541034,\n",
       " 'Total_Trans_Amt': 0.028407047179078677,\n",
       " 'Contacts_Count_12_mon': 0.022717470816807764,\n",
       " 'Total_Amt_Chng_Q4_Q1': 0.0212886632486706,\n",
       " 'CLIENTNUM': 0.014200566786228982,\n",
       " 'Months_on_book': 0.0068698647005681355,\n",
       " 'Customer_Age': 0.0024353308044184705,\n",
       " 'Total_Ct_Chng_Q4_Q1': -0.011408660600952487,\n",
       " 'Months_Inactive_12_mon': -0.027575459531000827,\n",
       " 'Total_Relationship_Count': -0.05927877636433808,\n",
       " 'Avg_Utilization_Ratio': -0.4169593823616906}"
      ]
     },
     "execution_count": 14,
     "metadata": {},
     "output_type": "execute_result"
    }
   ],
   "source": [
    "corr_target"
   ]
  },
  {
   "cell_type": "code",
   "execution_count": 15,
   "id": "pregnant-cooling",
   "metadata": {},
   "outputs": [
    {
     "data": {
      "image/png": "[encoded data removed]",
      "text/plain": [
       "<Figure size 432x288 with 1 Axes>"
      ]
     },
     "metadata": {
      "needs_background": "light"
     },
     "output_type": "display_data"
    }
   ],
   "source": [
    "X = list(corr_target.keys())\n",
    "y = list(corr_target.values())\n",
    "plt.barh(X, y)\n",
    "plt.gca().invert_yaxis()"
   ]
  },
  {
   "cell_type": "markdown",
   "id": "lightweight-colorado",
   "metadata": {},
   "source": [
    "Here we regard every variable as independent variable. However, it's not in fact. Variables always have some relationships with each other in real world."
   ]
  },
  {
   "cell_type": "markdown",
   "id": "opposite-partnership",
   "metadata": {},
   "source": [
    "In this plot, we can see 'Avg_Open_To_Buy' is the most correlated with credit limit. Other variables are less corelated with credit limit. Total_Trans_Ct and Total_Trans_Am are correlated so they have similar rankings in the plot."
   ]
  },
  {
   "cell_type": "markdown",
   "id": "hollow-wright",
   "metadata": {},
   "source": [
    "## PCA"
   ]
  },
  {
   "cell_type": "markdown",
   "id": "crucial-colors",
   "metadata": {},
   "source": [
    "PCA means principle conponent analysis. We can use this technique to reduce dimensions and improve prediction."
   ]
  },
  {
   "cell_type": "markdown",
   "id": "bibliographic-mexico",
   "metadata": {},
   "source": [
    "We can see the importances of features computed by PCA. Scikit-learn has function PCA() for our use."
   ]
  },
  {
   "cell_type": "code",
   "execution_count": 175,
   "id": "small-powder",
   "metadata": {},
   "outputs": [],
   "source": [
    "data = data.drop(['Credit_Limit'], axis=1)"
   ]
  },
  {
   "cell_type": "code",
   "execution_count": 17,
   "id": "flexible-transmission",
   "metadata": {},
   "outputs": [],
   "source": [
    "pca = PCA()\n",
    "pca.fit(data)\n",
    "explained_variance = pca.explained_variance_ratio_"
   ]
  },
  {
   "cell_type": "code",
   "execution_count": 18,
   "id": "indoor-frequency",
   "metadata": {},
   "outputs": [
    {
     "name": "stdout",
     "output_type": "stream",
     "text": [
      "[1.36188923e+15 8.30071783e+07 1.11724173e+07 6.58920305e+05\n",
      " 1.90207834e+02 1.13117015e+02 1.29842254e+01 2.12447619e+00\n",
      " 1.64247408e+00 1.18671258e+00 1.00783016e+00 7.08015874e-02\n",
      " 3.12490905e-02 2.61943519e-02]\n",
      "[9.99999930e-01 6.09500175e-08 8.20361618e-09 4.83828085e-10\n",
      " 1.39664678e-13 8.30588891e-14 9.53397988e-15 1.55994775e-15\n",
      " 1.20602610e-15 8.71372261e-16 7.40023539e-16 5.19877688e-17\n",
      " 2.29453964e-17 1.92338330e-17]\n",
      "[0.99999993 0.99999999 1.         1.         1.         1.\n",
      " 1.         1.         1.         1.         1.         1.\n",
      " 1.         1.        ]\n"
     ]
    }
   ],
   "source": [
    "print(pca.explained_variance_)\n",
    "print(pca.explained_variance_ratio_)\n",
    "print(pca.explained_variance_ratio_.cumsum())"
   ]
  },
  {
   "cell_type": "markdown",
   "id": "personalized-administrator",
   "metadata": {},
   "source": [
    "After fitting data by PCA, we can get explained variance, explained_variance ratio, and cumulative explained variance ratio of each feaure to understand feature importance better. Interestingly, one feature takes almost 100% explained variance ratio. We can notice it in later pages."
   ]
  },
  {
   "cell_type": "markdown",
   "id": "atlantic-milton",
   "metadata": {},
   "source": [
    "## mRMR"
   ]
  },
  {
   "cell_type": "markdown",
   "id": "assumed-resident",
   "metadata": {},
   "source": [
    "mRMR means maximum relevance minimum redundancy. It can be widely used even from marketing to genomics. In this project, we compute mRMR scores by using Spearman correlation."
   ]
  },
  {
   "cell_type": "markdown",
   "id": "ancient-mistake",
   "metadata": {},
   "source": [
    "By calling teh function spearman_mRMR, we can get scores of each feature. Sort the scores and plot a bar chart."
   ]
  },
  {
   "cell_type": "code",
   "execution_count": 19,
   "id": "governing-sampling",
   "metadata": {},
   "outputs": [],
   "source": [
    "mRMR_dict = dict()"
   ]
  },
  {
   "cell_type": "code",
   "execution_count": 20,
   "id": "contemporary-keeping",
   "metadata": {},
   "outputs": [],
   "source": [
    "for col in data.columns:\n",
    "    mRMR_dict[col] = spearman_mRMR(correlation, col)"
   ]
  },
  {
   "cell_type": "code",
   "execution_count": 21,
   "id": "cheap-flower",
   "metadata": {},
   "outputs": [
    {
     "data": {
      "text/plain": [
       "{'CLIENTNUM': -0.0017130693764236572,\n",
       " 'Customer_Age': -0.03424683868565139,\n",
       " 'Dependent_count': 0.0690734484576738,\n",
       " 'Months_on_book': -0.043435321026209936,\n",
       " 'Total_Relationship_Count': -0.024989244348772248,\n",
       " 'Months_Inactive_12_mon': -0.017964537807400538,\n",
       " 'Contacts_Count_12_mon': 0.05976006611132534,\n",
       " 'Total_Revolving_Bal': 0.07955164131718839,\n",
       " 'Avg_Open_To_Buy': 0.9938364390324899,\n",
       " 'Total_Amt_Chng_Q4_Q1': -0.013809599389622822,\n",
       " 'Total_Trans_Amt': -0.03361743829338777,\n",
       " 'Total_Trans_Ct': -0.02895761216045132,\n",
       " 'Total_Ct_Chng_Q4_Q1': -0.06727122463946965,\n",
       " 'Avg_Utilization_Ratio': -0.429881993004935}"
      ]
     },
     "execution_count": 21,
     "metadata": {},
     "output_type": "execute_result"
    }
   ],
   "source": [
    "mRMR_dict"
   ]
  },
  {
   "cell_type": "code",
   "execution_count": 22,
   "id": "experimental-borough",
   "metadata": {},
   "outputs": [
    {
     "data": {
      "image/png": "[encoded data removed]",
      "text/plain": [
       "<Figure size 432x288 with 1 Axes>"
      ]
     },
     "metadata": {
      "needs_background": "light"
     },
     "output_type": "display_data"
    }
   ],
   "source": [
    "mRMR_dict = sorted(mRMR_dict.items(), key=lambda x: (x[1], x[0]), reverse = True)\n",
    "mRMR_dict = dict(mRMR_dict)\n",
    "\n",
    "X = list(mRMR_dict.keys())\n",
    "y = list(mRMR_dict.values())\n",
    "plt.barh(X, y)\n",
    "plt.gca().invert_yaxis()"
   ]
  },
  {
   "cell_type": "markdown",
   "id": "korean-wagon",
   "metadata": {},
   "source": [
    "This result is similar to last result because we used Spearman correlation in mRMR formula. More features get a negative score and Total_Trans_Ct and Total_Trans_Am still have similar rankings in the plot."
   ]
  },
  {
   "cell_type": "markdown",
   "id": "egyptian-sessions",
   "metadata": {},
   "source": [
    "## Permutation importance"
   ]
  },
  {
   "cell_type": "markdown",
   "id": "looking-essex",
   "metadata": {},
   "source": [
    "Permutation importance means we can check importances by permuting each column. After permuting a column, we can see if the metric score increase or decrease. If increased, it proves dropping the columns is better, otherwise retaining the columns is better. This method is important for random forest particularly. More details are in: https://explained.ai/rf-importance/index.html. In the function implement for this project, I computed a baseline for all columns, then did baseline - metric score after permuting each column. So if baseline - metric score > 0, we shouldn't  drop that feature and that feature is important."
   ]
  },
  {
   "cell_type": "code",
   "execution_count": 23,
   "id": "laughing-spotlight",
   "metadata": {},
   "outputs": [],
   "source": [
    "importance = permute_imp(data, target, LinearRegression(), mean_squared_error)"
   ]
  },
  {
   "cell_type": "code",
   "execution_count": 24,
   "id": "black-disney",
   "metadata": {},
   "outputs": [
    {
     "data": {
      "text/plain": [
       "{'CLIENTNUM': -4.251457796957366e-23,\n",
       " 'Customer_Age': -5.683583130133956e-23,\n",
       " 'Dependent_count': -3.675858390513098e-23,\n",
       " 'Months_on_book': -3.3148319213478255e-23,\n",
       " 'Total_Relationship_Count': -5.0599084437646537e-23,\n",
       " 'Months_Inactive_12_mon': -5.380346515770288e-23,\n",
       " 'Contacts_Count_12_mon': -4.825477659968853e-23,\n",
       " 'Total_Revolving_Bal': 318445.5383567601,\n",
       " 'Avg_Open_To_Buy': 60967939.628154725,\n",
       " 'Total_Amt_Chng_Q4_Q1': 60986804.71291766,\n",
       " 'Total_Trans_Amt': 62296697.263552584,\n",
       " 'Total_Trans_Ct': 62493795.97657801,\n",
       " 'Total_Ct_Chng_Q4_Q1': 62701177.68246261,\n",
       " 'Avg_Utilization_Ratio': 83080372.66338082}"
      ]
     },
     "execution_count": 24,
     "metadata": {},
     "output_type": "execute_result"
    }
   ],
   "source": [
    "importance"
   ]
  },
  {
   "cell_type": "code",
   "execution_count": 25,
   "id": "confirmed-colombia",
   "metadata": {},
   "outputs": [],
   "source": [
    "corr_permutation = sorted(importance.items(), key=lambda x: (x[1], x[0]), reverse = True)"
   ]
  },
  {
   "cell_type": "code",
   "execution_count": 26,
   "id": "spatial-nomination",
   "metadata": {},
   "outputs": [],
   "source": [
    "corr_permutation = dict(corr_permutation)"
   ]
  },
  {
   "cell_type": "code",
   "execution_count": 27,
   "id": "sized-powell",
   "metadata": {},
   "outputs": [
    {
     "data": {
      "image/png": "[encoded data removed]",
      "text/plain": [
       "<Figure size 432x288 with 1 Axes>"
      ]
     },
     "metadata": {
      "needs_background": "light"
     },
     "output_type": "display_data"
    }
   ],
   "source": [
    "X = list(corr_permutation.keys())\n",
    "y = list(corr_permutation.values())\n",
    "plt.barh(X, y)\n",
    "plt.gca().invert_yaxis()"
   ]
  },
  {
   "cell_type": "markdown",
   "id": "southeast-spine",
   "metadata": {},
   "source": [
    "The important features in this result are similar to Spearman correlation, but it has different extents and ranknings."
   ]
  },
  {
   "cell_type": "markdown",
   "id": "vertical-experience",
   "metadata": {},
   "source": [
    "## Drop column importance"
   ]
  },
  {
   "cell_type": "markdown",
   "id": "covered-cooper",
   "metadata": {},
   "source": [
    "Drop column importance has almost same logistic as permutation importance. But we compare metric scores to baseline after dropping one feature. After dropping a feature, we can see if the metric score increase or decrease. If increased, it proves dropping the columns is better, otherwise retaining the columns is better. This method is important for random forest particularly. More details are in: https://explained.ai/rf-importance/index.html. In the function implement for this project, I computed a baseline for all columns, then did baseline - metric score after dropping each feature. So if baseline - metric score > 0, we shouldn't drop that feature and that feature is important."
   ]
  },
  {
   "cell_type": "code",
   "execution_count": 28,
   "id": "printable-academy",
   "metadata": {},
   "outputs": [],
   "source": [
    "importance = dropcolumn_imp(data, target, LinearRegression(), mean_squared_error)"
   ]
  },
  {
   "cell_type": "code",
   "execution_count": 29,
   "id": "retained-hunter",
   "metadata": {},
   "outputs": [
    {
     "data": {
      "text/plain": [
       "{'CLIENTNUM': -3.4307050840928293e-23,\n",
       " 'Customer_Age': -2.735634524208531e-23,\n",
       " 'Dependent_count': 1.1572000253262927e-23,\n",
       " 'Months_on_book': -3.1503169865258046e-23,\n",
       " 'Total_Relationship_Count': -2.287876065161518e-23,\n",
       " 'Months_Inactive_12_mon': -2.3304140118892417e-23,\n",
       " 'Contacts_Count_12_mon': -1.6798462588994552e-23,\n",
       " 'Total_Revolving_Bal': 318191.16788221657,\n",
       " 'Avg_Open_To_Buy': 48127819.53768757,\n",
       " 'Total_Amt_Chng_Q4_Q1': 7.451790330916376e-23,\n",
       " 'Total_Trans_Amt': 1.7644622379149626e-22,\n",
       " 'Total_Trans_Ct': 3.2867945788505316e-23,\n",
       " 'Total_Ct_Chng_Q4_Q1': -1.2565717756925633e-24,\n",
       " 'Avg_Utilization_Ratio': 6.299282461838799e-23}"
      ]
     },
     "execution_count": 29,
     "metadata": {},
     "output_type": "execute_result"
    }
   ],
   "source": [
    "importance"
   ]
  },
  {
   "cell_type": "code",
   "execution_count": 30,
   "id": "reflected-virgin",
   "metadata": {},
   "outputs": [],
   "source": [
    "corr_dropcolumn = sorted(importance.items(), key=lambda x: (x[1], x[0]), reverse = True)"
   ]
  },
  {
   "cell_type": "code",
   "execution_count": 31,
   "id": "stopped-harrison",
   "metadata": {},
   "outputs": [],
   "source": [
    "corr_dropcolumn = dict(corr_dropcolumn)"
   ]
  },
  {
   "cell_type": "code",
   "execution_count": 32,
   "id": "metallic-water",
   "metadata": {},
   "outputs": [
    {
     "data": {
      "image/png": "[encoded data removed]",
      "text/plain": [
       "<Figure size 432x288 with 1 Axes>"
      ]
     },
     "metadata": {
      "needs_background": "light"
     },
     "output_type": "display_data"
    }
   ],
   "source": [
    "X = list(corr_dropcolumn.keys())\n",
    "y = list(corr_dropcolumn.values())\n",
    "plt.barh(X, y)\n",
    "plt.gca().invert_yaxis()"
   ]
  },
  {
   "cell_type": "markdown",
   "id": "neutral-stadium",
   "metadata": {},
   "source": [
    "This method gives us a more interesting result. Only 'Avg_Open_To_Buy' is very important to target and others are dispensable by contrast. It's same as the result of PCA saying just one feature take almost 100% explained variance ratio. But we can't conclude that we should only keep this one feature."
   ]
  },
  {
   "cell_type": "markdown",
   "id": "consistent-singing",
   "metadata": {},
   "source": [
    "## Compare these methods"
   ]
  },
  {
   "cell_type": "markdown",
   "id": "primary-adapter",
   "metadata": {},
   "source": [
    "We can compare Spearman, mRMR, Permutation importance and Drop column importance by plotting metric scores of top k features of each method."
   ]
  },
  {
   "cell_type": "markdown",
   "id": "forbidden-harrison",
   "metadata": {},
   "source": [
    "We can get feature importance rankings computed in previous parts, then compute metric scores by using top k features."
   ]
  },
  {
   "cell_type": "code",
   "execution_count": 33,
   "id": "arranged-voice",
   "metadata": {},
   "outputs": [],
   "source": [
    "Spearman_ranking = list(corr_target.keys())"
   ]
  },
  {
   "cell_type": "code",
   "execution_count": 34,
   "id": "endangered-valuable",
   "metadata": {},
   "outputs": [],
   "source": [
    "mRMR_ranking = list(mRMR_dict.keys())"
   ]
  },
  {
   "cell_type": "code",
   "execution_count": 35,
   "id": "military-vocabulary",
   "metadata": {},
   "outputs": [],
   "source": [
    "permutation_ranking = list(corr_permutation.keys())"
   ]
  },
  {
   "cell_type": "code",
   "execution_count": 36,
   "id": "leading-clearing",
   "metadata": {},
   "outputs": [],
   "source": [
    "dropcolumn_ranking = list(corr_dropcolumn)"
   ]
  },
  {
   "cell_type": "code",
   "execution_count": 81,
   "id": "binding-discussion",
   "metadata": {},
   "outputs": [],
   "source": [
    "spearman_scores = compare(data, target, Spearman_ranking, 8, LinearRegression(), mean_squared_error)"
   ]
  },
  {
   "cell_type": "code",
   "execution_count": 82,
   "id": "therapeutic-independence",
   "metadata": {},
   "outputs": [
    {
     "data": {
      "text/plain": [
       "[1.1005615579195844e-16,\n",
       " 9.711910832397183e-21,\n",
       " 3.521164491281515e-19,\n",
       " 3.984241618657886e-17,\n",
       " 8.386967078776033e-19,\n",
       " 1.9184694083109044e-17,\n",
       " 3.926367857217172e-16,\n",
       " 7.712550152439709e-17]"
      ]
     },
     "execution_count": 82,
     "metadata": {},
     "output_type": "execute_result"
    }
   ],
   "source": [
    "spearman_scores"
   ]
  },
  {
   "cell_type": "code",
   "execution_count": 83,
   "id": "fancy-alcohol",
   "metadata": {},
   "outputs": [
    {
     "data": {
      "text/plain": [
       "[7.729930660684557e-18,\n",
       " 5.763642022533456e-16,\n",
       " 1.8830215859505723e-17,\n",
       " 9.886468430159458e-18,\n",
       " 3.9771574667764244e-17,\n",
       " 1.5138096481593164e-16,\n",
       " 1.842633533206074e-18,\n",
       " 4.077976037120051e-18]"
      ]
     },
     "execution_count": 83,
     "metadata": {},
     "output_type": "execute_result"
    }
   ],
   "source": [
    "mRMR_scores = compare(data, target, mRMR_ranking, 8, LinearRegression(), mean_squared_error)\n",
    "mRMR_scores"
   ]
  },
  {
   "cell_type": "code",
   "execution_count": 84,
   "id": "opened-thirty",
   "metadata": {},
   "outputs": [
    {
     "data": {
      "text/plain": [
       "[2.7174143694993445e-23,\n",
       " 4.762285173338286e-24,\n",
       " 3.303473466623693e-23,\n",
       " 9.443500726548212e-24,\n",
       " 1.3172417454610402e-22,\n",
       " 3.015197858958564e-23,\n",
       " 2.72114250028334e-23,\n",
       " 5.104964441725375e-23]"
      ]
     },
     "execution_count": 84,
     "metadata": {},
     "output_type": "execute_result"
    }
   ],
   "source": [
    "permutation_scores = compare(data, target, permutation_ranking, 8, LinearRegression(), mean_squared_error)\n",
    "permutation_scores "
   ]
  },
  {
   "cell_type": "code",
   "execution_count": 85,
   "id": "consecutive-place",
   "metadata": {},
   "outputs": [
    {
     "data": {
      "text/plain": [
       "[6.70081621389082e-23,\n",
       " 7.363818724793276e-23,\n",
       " 2.866399253704393e-23,\n",
       " 1.419766617904141e-22,\n",
       " 4.243587606970894e-24,\n",
       " 5.638834811406687e-23,\n",
       " 1.5011904232158144e-22,\n",
       " 1.0462592038534469e-22]"
      ]
     },
     "execution_count": 85,
     "metadata": {},
     "output_type": "execute_result"
    }
   ],
   "source": [
    "dropcolumn_scores = compare(data, target, dropcolumn_ranking, 8, LinearRegression(), mean_squared_error)\n",
    "dropcolumn_scores "
   ]
  },
  {
   "cell_type": "markdown",
   "id": "ordered-introduction",
   "metadata": {},
   "source": [
    "Get scores of each ranking then plot graphs. I used linear regresion as model and MSE as metric."
   ]
  },
  {
   "cell_type": "code",
   "execution_count": 86,
   "id": "refined-nowhere",
   "metadata": {},
   "outputs": [
    {
     "data": {
      "image/png": "[encoded data removed]",
      "text/plain": [
       "<Figure size 720x432 with 1 Axes>"
      ]
     },
     "metadata": {
      "needs_background": "light"
     },
     "output_type": "display_data"
    }
   ],
   "source": [
    "fig, ax = plt.subplots(figsize=(10,6))\n",
    "plt.plot(range(1,9), spearman_scores, label='Spearman')\n",
    "plt.plot(range(1,9), mRMR_scores, label='mRMR')\n",
    "plt.plot(range(1,9), permutation_scores, label='Permutation')\n",
    "plt.plot(range(1,9), dropcolumn_scores, label='Drop column')\n",
    "ax.set_xlabel(\"Top k features\",fontsize=\"15\")\n",
    "ax.set_ylabel(\"20% 5-fold CV MSE\",fontsize=\"15\")\n",
    "ax.set_title(\"Credit Limit Prediction\",fontsize=\"xx-large\")\n",
    "plt.legend(loc=\"upper right\")\n",
    "plt.show()"
   ]
  },
  {
   "cell_type": "markdown",
   "id": "centered-symbol",
   "metadata": {},
   "source": [
    "We can see permutation and drop column have lower MSE scores and Spearman and mRMR have higher MSE scores. Spearman and mRMR are similar so their scores and trends are similar. But generally the trends are decreasing. Now we zoom in permutation and drop column methods that have lower MSE scores."
   ]
  },
  {
   "cell_type": "code",
   "execution_count": 87,
   "id": "super-retro",
   "metadata": {},
   "outputs": [
    {
     "data": {
      "image/png": "[encoded data removed]",
      "text/plain": [
       "<Figure size 720x432 with 1 Axes>"
      ]
     },
     "metadata": {
      "needs_background": "light"
     },
     "output_type": "display_data"
    }
   ],
   "source": [
    "fig, ax = plt.subplots(figsize=(10,6))\n",
    "plt.plot(range(1,9), permutation_scores, label='Permutation', c='green')\n",
    "plt.plot(range(1,9), dropcolumn_scores, label='Drop column', c='red')\n",
    "ax.set_xlabel(\"Top k features\",fontsize=\"15\")\n",
    "ax.set_ylabel(\"20% 5-fold CV MSE\",fontsize=\"15\")\n",
    "ax.set_title(\"Credit Limit Prediction\",fontsize=\"xx-large\")\n",
    "plt.legend(loc=\"upper right\")\n",
    "plt.show()"
   ]
  },
  {
   "cell_type": "markdown",
   "id": "previous-paragraph",
   "metadata": {},
   "source": [
    "Permutation and drop column are similar in the trend, and we can see 3 features are best for this data and model."
   ]
  },
  {
   "cell_type": "markdown",
   "id": "attached-banner",
   "metadata": {},
   "source": [
    "## SHAP"
   ]
  },
  {
   "cell_type": "markdown",
   "id": "comparable-lyric",
   "metadata": {},
   "source": [
    "SHAP can explain outputs of machine learning models. There's a developed libariry called shap. More details are on https://github.com/slundberg/shap. By using shap, we can get explanation information and do visualization. Here we can use a example code on https://github.com/slundberg/shap to do a visualization to compare to previoous parts."
   ]
  },
  {
   "cell_type": "code",
   "execution_count": 96,
   "id": "promising-exemption",
   "metadata": {},
   "outputs": [
    {
     "ename": "Exception",
     "evalue": "The passed model is not callable and cannot be analyzed directly with the given masker! Model: LinearRegression()",
     "output_type": "error",
     "traceback": [
      "\u001b[0;31m---------------------------------------------------------------------------\u001b[0m",
      "\u001b[0;31mException\u001b[0m                                 Traceback (most recent call last)",
      "\u001b[0;32m<ipython-input-96-e6280fb060fd>\u001b[0m in \u001b[0;36m<module>\u001b[0;34m\u001b[0m\n\u001b[1;32m      1\u001b[0m \u001b[0mmodel\u001b[0m \u001b[0;34m=\u001b[0m \u001b[0mLinearRegression\u001b[0m\u001b[0;34m(\u001b[0m\u001b[0;34m)\u001b[0m\u001b[0;34m.\u001b[0m\u001b[0mfit\u001b[0m\u001b[0;34m(\u001b[0m\u001b[0mdata\u001b[0m\u001b[0;34m,\u001b[0m \u001b[0mtarget\u001b[0m\u001b[0;34m)\u001b[0m\u001b[0;34m\u001b[0m\u001b[0;34m\u001b[0m\u001b[0m\n\u001b[1;32m      2\u001b[0m \u001b[0;34m\u001b[0m\u001b[0m\n\u001b[0;32m----> 3\u001b[0;31m \u001b[0mexplainer\u001b[0m \u001b[0;34m=\u001b[0m \u001b[0mshap\u001b[0m\u001b[0;34m.\u001b[0m\u001b[0mExplainer\u001b[0m\u001b[0;34m(\u001b[0m\u001b[0mmodel\u001b[0m\u001b[0;34m)\u001b[0m\u001b[0;34m\u001b[0m\u001b[0;34m\u001b[0m\u001b[0m\n\u001b[0m\u001b[1;32m      4\u001b[0m \u001b[0mshap_values\u001b[0m \u001b[0;34m=\u001b[0m \u001b[0mexplainer\u001b[0m\u001b[0;34m(\u001b[0m\u001b[0mdata\u001b[0m\u001b[0;34m)\u001b[0m\u001b[0;34m\u001b[0m\u001b[0;34m\u001b[0m\u001b[0m\n\u001b[1;32m      5\u001b[0m \u001b[0;34m\u001b[0m\u001b[0m\n",
      "\u001b[0;32m~/opt/anaconda3/lib/python3.8/site-packages/shap/explainers/_explainer.py\u001b[0m in \u001b[0;36m__init__\u001b[0;34m(self, model, masker, link, algorithm, output_names, feature_names, **kwargs)\u001b[0m\n\u001b[1;32m    166\u001b[0m                 \u001b[0;31m# if we get here then we don't know how to handle what was given to us\u001b[0m\u001b[0;34m\u001b[0m\u001b[0;34m\u001b[0m\u001b[0;34m\u001b[0m\u001b[0m\n\u001b[1;32m    167\u001b[0m                 \u001b[0;32melse\u001b[0m\u001b[0;34m:\u001b[0m\u001b[0;34m\u001b[0m\u001b[0;34m\u001b[0m\u001b[0m\n\u001b[0;32m--> 168\u001b[0;31m                     \u001b[0;32mraise\u001b[0m \u001b[0mException\u001b[0m\u001b[0;34m(\u001b[0m\u001b[0;34m\"The passed model is not callable and cannot be analyzed directly with the given masker! Model: \"\u001b[0m \u001b[0;34m+\u001b[0m \u001b[0mstr\u001b[0m\u001b[0;34m(\u001b[0m\u001b[0mmodel\u001b[0m\u001b[0;34m)\u001b[0m\u001b[0;34m)\u001b[0m\u001b[0;34m\u001b[0m\u001b[0;34m\u001b[0m\u001b[0m\n\u001b[0m\u001b[1;32m    169\u001b[0m \u001b[0;34m\u001b[0m\u001b[0m\n\u001b[1;32m    170\u001b[0m             \u001b[0;31m# build the right subclass\u001b[0m\u001b[0;34m\u001b[0m\u001b[0;34m\u001b[0m\u001b[0;34m\u001b[0m\u001b[0m\n",
      "\u001b[0;31mException\u001b[0m: The passed model is not callable and cannot be analyzed directly with the given masker! Model: LinearRegression()"
     ]
    }
   ],
   "source": [
    "model = LinearRegression().fit(data, target)\n",
    "\n",
    "explainer = shap.Explainer(model)\n",
    "shap_values = explainer(data)\n",
    "\n",
    "shap.plots.waterfall(shap_values[0])"
   ]
  },
  {
   "cell_type": "markdown",
   "id": "alien-newsletter",
   "metadata": {},
   "source": [
    "I used linear regression model but it failed. The example code on https://github.com/slundberg/shap is for tree ensemble models such as XGBoost, LightGBM and CatBoost so need more reasearch on the reason why it doesn't work for linear regression model."
   ]
  },
  {
   "cell_type": "markdown",
   "id": "sixth-hungarian",
   "metadata": {},
   "source": [
    "So now we try XGBoost model."
   ]
  },
  {
   "cell_type": "code",
   "execution_count": 97,
   "id": "alone-hepatitis",
   "metadata": {},
   "outputs": [
    {
     "data": {
      "image/png": "[encoded data removed]",
      "text/plain": [
       "<Figure size 576x468 with 3 Axes>"
      ]
     },
     "metadata": {},
     "output_type": "display_data"
    }
   ],
   "source": [
    "model = xgboost.XGBRegressor().fit(data, target)\n",
    "\n",
    "explainer = shap.Explainer(model)\n",
    "shap_values = explainer(data)\n",
    "\n",
    "shap.plots.waterfall(shap_values[0])"
   ]
  },
  {
   "cell_type": "markdown",
   "id": "chronic-morrison",
   "metadata": {},
   "source": [
    "This visualization gives a similar result to drop columns importance and PCA that almost only one feature 'Avg_Open_To_Buy' takes 100% importance."
   ]
  },
  {
   "cell_type": "markdown",
   "id": "annoying-pension",
   "metadata": {},
   "source": [
    "## Automatic feature selection"
   ]
  },
  {
   "cell_type": "markdown",
   "id": "cathedral-expression",
   "metadata": {},
   "source": [
    "We want to select features automatically so implemented feature_selection to do it. I used permutation importance to get feature importance in this function. In each time I drop the most unimportant feature and retrain the model, so we can recompute feature importance and get a new metric score. In this function, I also used linear regression as model and MSE as metric."
   ]
  },
  {
   "cell_type": "code",
   "execution_count": 44,
   "id": "retained-venture",
   "metadata": {},
   "outputs": [],
   "source": [
    "n, scores, columns_list = feature_selection(data, target, LinearRegression(), mean_squared_error)"
   ]
  },
  {
   "cell_type": "code",
   "execution_count": 45,
   "id": "confused-astronomy",
   "metadata": {},
   "outputs": [
    {
     "data": {
      "text/plain": [
       "[1.0722305724320568e-22,\n",
       " 1.9416454449285664e-17,\n",
       " 7.386545190600598e-21,\n",
       " 9.988291005644228e-20,\n",
       " 4.0588575783290156e-23,\n",
       " 1.082709401360515e-23,\n",
       " 2.1958179964443278e-23,\n",
       " 1.4841267609621678e-22,\n",
       " 2.885955991780054e-23,\n",
       " 1.1734068363061353e-23,\n",
       " 2.3824720569897878e-23,\n",
       " 4.1281610033547056e-23,\n",
       " 3.225399620308069e-23,\n",
       " 657505.9590686507]"
      ]
     },
     "execution_count": 45,
     "metadata": {},
     "output_type": "execute_result"
    }
   ],
   "source": [
    "scores"
   ]
  },
  {
   "cell_type": "markdown",
   "id": "unknown-harris",
   "metadata": {},
   "source": [
    "We have 14 features in total. So after dropping one feature at one time, we got 14 MSE scores."
   ]
  },
  {
   "cell_type": "code",
   "execution_count": 89,
   "id": "promotional-comment",
   "metadata": {},
   "outputs": [
    {
     "data": {
      "image/png": "[encoded data removed]",
      "text/plain": [
       "<Figure size 720x432 with 1 Axes>"
      ]
     },
     "metadata": {
      "needs_background": "light"
     },
     "output_type": "display_data"
    }
   ],
   "source": [
    "fig, ax = plt.subplots(figsize=(10,6))\n",
    "plt.plot(range(13), scores[:-1])\n",
    "ax.set_xlabel(\"Drop k features\",fontsize=\"15\")\n",
    "ax.set_ylabel(\"20% 5-fold CV MSE\",fontsize=\"15\")\n",
    "ax.set_title(\"Automatic feature selection\",fontsize=\"xx-large\")\n",
    "plt.show()"
   ]
  },
  {
   "cell_type": "markdown",
   "id": "controlling-methodology",
   "metadata": {},
   "source": [
    "The MSE scores are fluctuating so it's hard to say we should stop once we see MSE score increases. So I computed all MSE scores after dropping all features. Except k = 1, MSE scores when k equals to other numbers are similar, so need more discussion and research to decide how to know whick k is best."
   ]
  },
  {
   "cell_type": "markdown",
   "id": "weekly-christmas",
   "metadata": {},
   "source": [
    "## Variance and p-values for feature importances"
   ]
  },
  {
   "cell_type": "markdown",
   "id": "moderate-bargain",
   "metadata": {},
   "source": [
    "Here, we combine the knowledge of statistics to get mean and variance of feature importance, and p-value."
   ]
  },
  {
   "cell_type": "markdown",
   "id": "ranging-substitute",
   "metadata": {},
   "source": [
    "To compute variance and p-values, we need to compute model-based importance by bootstrapping X and y so we still use permutation importance here."
   ]
  },
  {
   "cell_type": "code",
   "execution_count": 248,
   "id": "composed-tampa",
   "metadata": {},
   "outputs": [],
   "source": [
    "permute_importances = []\n",
    "for i in range(10):\n",
    "    rand_index = np.random.randint(0,10127,3000)\n",
    "    bootstrap_x = data.iloc[rand_index]\n",
    "    bootstrap_y = target.iloc[rand_index]\n",
    "    permute_importance = permute_imp(bootstrap_x, bootstrap_y, LinearRegression(), mean_squared_error)\n",
    "    permute_importances.append(permute_importance)"
   ]
  },
  {
   "cell_type": "markdown",
   "id": "green-diameter",
   "metadata": {},
   "source": [
    "In this dataset, there are 10127 rows in total so we randomly pick 3000 rows in each iteration and 10 iterations in total. For each iteration, we compute a set of permutation importance of each feature. Fianlly, we have 10 sets of permutation importances in permute_importances."
   ]
  },
  {
   "cell_type": "markdown",
   "id": "controversial-compression",
   "metadata": {},
   "source": [
    "After that, we need to split out 10 importances of each feature"
   ]
  },
  {
   "cell_type": "code",
   "execution_count": 249,
   "id": "least-breath",
   "metadata": {},
   "outputs": [],
   "source": [
    "importances_CLIENTNUM                = [x['CLIENTNUM'] for x in permute_importances]\n",
    "importances_Customer_Age             = [x['Customer_Age'] for x in permute_importances]\n",
    "importances_Dependent_count          = [x['Dependent_count'] for x in permute_importances]\n",
    "importances_Months_on_book           = [x['Months_on_book'] for x in permute_importances]\n",
    "importances_Total_Relationship_Count = [x['Total_Relationship_Count'] for x in permute_importances]\n",
    "importances_Months_Inactive_12_mon   = [x['Months_Inactive_12_mon'] for x in permute_importances]\n",
    "importances_Contacts_Count_12_mon    = [x['Contacts_Count_12_mon'] for x in permute_importances]\n",
    "importances_Total_Revolving_Bal      = [x['Total_Revolving_Bal'] for x in permute_importances]\n",
    "importances_Avg_Open_To_Buy          = [x['Avg_Open_To_Buy'] for x in permute_importances]\n",
    "importances_Total_Amt_Chng_Q4_Q1     = [x['Total_Amt_Chng_Q4_Q1'] for x in permute_importances]\n",
    "importances_Total_Trans_Amt          = [x['Total_Trans_Amt'] for x in permute_importances]\n",
    "importances_Total_Trans_Ct           = [x['Total_Trans_Ct'] for x in permute_importances]\n",
    "importances_Total_Ct_Chng_Q4_Q1      = [x['Total_Ct_Chng_Q4_Q1'] for x in permute_importances]\n",
    "importances_Avg_Utilization_Ratio    = [x['Avg_Utilization_Ratio'] for x in permute_importances]"
   ]
  },
  {
   "cell_type": "markdown",
   "id": "furnished-hostel",
   "metadata": {},
   "source": [
    "Because we want to plot mean and mean +/- 2 * deviation, we need to compute importance means of each feature."
   ]
  },
  {
   "cell_type": "code",
   "execution_count": 250,
   "id": "geological-estimate",
   "metadata": {},
   "outputs": [],
   "source": [
    "means = [np.mean(importances_CLIENTNUM), np.mean(importances_Customer_Age), np.mean(importances_Dependent_count ), np.mean(importances_Months_on_book ), \n",
    "         np.mean(importances_Total_Relationship_Count), np.mean(importances_Months_Inactive_12_mon), np.mean(importances_Contacts_Count_12_mon), \n",
    "         np.mean(importances_Total_Revolving_Bal ), np.mean(importances_Avg_Open_To_Buy), np.mean(importances_Total_Amt_Chng_Q4_Q1), np.mean(importances_Total_Trans_Amt), \n",
    "         np.mean(importances_Total_Trans_Ct), np.mean(importances_Total_Ct_Chng_Q4_Q1), np.mean(importances_Avg_Utilization_Ratio)]"
   ]
  },
  {
   "cell_type": "markdown",
   "id": "juvenile-savannah",
   "metadata": {},
   "source": [
    "So we can plot the bar chart that contains mean and mean +/- 2 * deviation of each features."
   ]
  },
  {
   "cell_type": "code",
   "execution_count": 261,
   "id": "extensive-array",
   "metadata": {},
   "outputs": [
    {
     "data": {
      "image/png": "[encoded data removed]",
      "text/plain": [
       "<Figure size 720x432 with 1 Axes>"
      ]
     },
     "metadata": {
      "needs_background": "light"
     },
     "output_type": "display_data"
    }
   ],
   "source": [
    "fig, ax = plt.subplots(figsize=(10,6))\n",
    "plt.barh(list(permute_importances[0].keys()), means)\n",
    "plt.axhline(y=13, xmin=means[-1]-2*np.std(importances_Avg_Utilization_Ratio), xmax=means[-1]+2*np.std(importances_Avg_Utilization_Ratio), c='black')\n",
    "plt.axhline(y=12, xmin=means[-2]-2*np.std(importances_Total_Ct_Chng_Q4_Q1),   xmax=means[-2]+2*np.std(importances_Total_Ct_Chng_Q4_Q1),   c='black')\n",
    "plt.axhline(y=11, xmin=means[-3]-2*np.std(importances_Total_Trans_Ct),        xmax=means[-2]+2*np.std(importances_Total_Trans_Ct ),       c='black')\n",
    "plt.axhline(y=10, xmin=means[-4]-2*np.std(importances_Total_Trans_Amt),       xmax=means[-2]+2*np.std(importances_Total_Trans_Amt),       c='black')\n",
    "plt.axhline(y=9,  xmin=means[-5]-2*np.std(importances_Total_Amt_Chng_Q4_Q1),  xmax=means[-2]+2*np.std(importances_Total_Amt_Chng_Q4_Q1),  c='black')\n",
    "plt.axhline(y=8,  xmin=means[-6]-2*np.std(importances_Avg_Open_To_Buy),       xmax=means[-2]+2*np.std(importances_Avg_Open_To_Buy),       c='black')\n",
    "plt.axhline(y=7,  xmin=means[-7]-2*np.std(importances_Total_Revolving_Bal),   xmax=means[-2]+2*np.std(importances_Total_Revolving_Bal),   c='black')\n",
    "ax.set_title(\"Mean and two standard deviations for feature importance\",fontsize=\"xx-large\")\n",
    "plt.show()"
   ]
  },
  {
   "cell_type": "markdown",
   "id": "beneficial-prior",
   "metadata": {},
   "source": [
    "However, for this dataset only two stantard deviations look not obvious. It possibly could prove that the variance of feature importance of this dataset is small."
   ]
  },
  {
   "cell_type": "markdown",
   "id": "charming-guyana",
   "metadata": {},
   "source": [
    "## Next things:"
   ]
  },
  {
   "cell_type": "markdown",
   "id": "frequent-uzbekistan",
   "metadata": {},
   "source": [
    "- Figure out the reason why can't use linear regression model for SHAP\n",
    "- Try another dataset to check explained variance ratio of PCA again\n",
    "- Try another dataset to check standard deviations of feature importance and p-values because this dataset is not obvious so not so meaningful"
   ]
  }
 ],
 "metadata": {
  "kernelspec": {
   "display_name": "Python 3",
   "language": "python",
   "name": "python3"
  },
  "language_info": {
   "codemirror_mode": {
    "name": "ipython",
    "version": 3
   },
   "file_extension": ".py",
   "mimetype": "text/x-python",
   "name": "python",
   "nbconvert_exporter": "python",
   "pygments_lexer": "ipython3",
   "version": "3.8.2"
  }
 },
 "nbformat": 4,
 "nbformat_minor": 5
}
